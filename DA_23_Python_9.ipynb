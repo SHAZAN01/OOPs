{
  "nbformat": 4,
  "nbformat_minor": 0,
  "metadata": {
    "colab": {
      "provenance": [],
      "include_colab_link": true
    },
    "kernelspec": {
      "name": "python3",
      "display_name": "Python 3"
    },
    "language_info": {
      "name": "python"
    }
  },
  "cells": [
    {
      "cell_type": "markdown",
      "metadata": {
        "id": "view-in-github",
        "colab_type": "text"
      },
      "source": [
        "<a href=\"https://colab.research.google.com/github/SHAZAN01/OOPs/blob/main/DA_23_Python_9.ipynb\" target=\"_parent\"><img src=\"https://colab.research.google.com/assets/colab-badge.svg\" alt=\"Open In Colab\"/></a>"
      ]
    },
    {
      "cell_type": "code",
      "execution_count": null,
      "metadata": {
        "colab": {
          "base_uri": "https://localhost:8080/"
        },
        "id": "TWuDVxM5n8Vn",
        "outputId": "4b5666d7-7604-4e7a-f07f-dc88c158b5ec"
      },
      "outputs": [
        {
          "output_type": "stream",
          "name": "stdout",
          "text": [
            "<class 'str'>\n"
          ]
        }
      ],
      "source": [
        "a = 'abc'\n",
        "print(type(a))"
      ]
    },
    {
      "cell_type": "markdown",
      "metadata": {
        "id": "I5WgAN0bRAIZ"
      },
      "source": [
        "###**Object oriented programming(OOPS in Python)**:"
      ]
    },
    {
      "cell_type": "markdown",
      "metadata": {
        "id": "VcfHGjGCQ8_5"
      },
      "source": [
        "\n",
        "\n",
        "Object oriented programming is a programming paradigm based on the concepts of 'Objects' which can contain data, in the form of fields(often known as attributes or properties) and the code in the form of procedures/functions(known as methods).\n",
        "\n",
        "\n",
        "\n",
        "* An object has two characteristics:\n",
        "\n",
        "  * attributes or properties or state\n",
        "  * behaviour or functionality or action\n",
        "\n",
        "Let's take an example:\n",
        "\n",
        "A Human is an object, as it has the following properties:\n",
        "\n",
        "* name, weight, height as **attributes**\n",
        "* walking, running, dancing as **behavior**\n",
        "\n",
        "The concept of OOP in Python focuses on creating reusable code. This concept is also known as DRY (Don't Repeat Yourself).\n",
        "\n",
        "\n"
      ]
    },
    {
      "cell_type": "markdown",
      "metadata": {
        "id": "ivN8BcQDWxcv"
      },
      "source": [
        "In Python, the concept of OOP follows some basic principles:\n",
        "\n",
        "* Class :\n",
        "  * A class is a blueprint for the object.\n",
        "\n",
        "\n"
      ]
    },
    {
      "cell_type": "code",
      "source": [
        "class Human:\n",
        "    # atrributes\n",
        "    # methods\n",
        "    pass\n"
      ],
      "metadata": {
        "id": "t5P1y3HPuAcA"
      },
      "execution_count": null,
      "outputs": []
    },
    {
      "cell_type": "markdown",
      "metadata": {
        "id": "A83CQbWAXCi5"
      },
      "source": [
        "* Object :\n",
        "  * All real world entities are called as 'Object'. Ex: car, bus, pen etc.\n",
        "  * An object (instance) is an instantiation of a class containing variables or methods. When class is defined, only the description for the object is defined. Therefore, no memory or storage is allocated."
      ]
    },
    {
      "cell_type": "code",
      "source": [
        "Obj = Human()\n",
        "Obj"
      ],
      "metadata": {
        "colab": {
          "base_uri": "https://localhost:8080/"
        },
        "id": "jHri7W8cstO7",
        "outputId": "8e4689d7-6243-40df-9b6f-655ff4f5ee54"
      },
      "execution_count": null,
      "outputs": [
        {
          "output_type": "execute_result",
          "data": {
            "text/plain": [
              "<__main__.Human at 0x7f9db7f79d80>"
            ]
          },
          "metadata": {},
          "execution_count": 3
        }
      ]
    },
    {
      "cell_type": "code",
      "source": [
        "Obj1 = Human()\n",
        "Obj2 = Human()"
      ],
      "metadata": {
        "id": "JoLuL5Swvy-H"
      },
      "execution_count": null,
      "outputs": []
    },
    {
      "cell_type": "code",
      "source": [
        "Obj.name = 'Mujtaba'"
      ],
      "metadata": {
        "id": "Qo17D0JQvVjK"
      },
      "execution_count": null,
      "outputs": []
    },
    {
      "cell_type": "code",
      "source": [
        "Obj.name"
      ],
      "metadata": {
        "colab": {
          "base_uri": "https://localhost:8080/",
          "height": 35
        },
        "id": "VJJh4l0bt7ox",
        "outputId": "28733557-ecf1-41ec-f5fc-a9e0f76f521d"
      },
      "execution_count": null,
      "outputs": [
        {
          "output_type": "execute_result",
          "data": {
            "text/plain": [
              "'Mujtaba'"
            ],
            "application/vnd.google.colaboratory.intrinsic+json": {
              "type": "string"
            }
          },
          "metadata": {},
          "execution_count": 5
        }
      ]
    },
    {
      "cell_type": "code",
      "source": [
        "Obj1.name = 'Altaf'\n",
        "Obj2.name = 'Shajji'"
      ],
      "metadata": {
        "id": "0dn3eNTKv5by"
      },
      "execution_count": null,
      "outputs": []
    },
    {
      "cell_type": "code",
      "source": [
        "# Obj1.name\n",
        "Obj2.name"
      ],
      "metadata": {
        "colab": {
          "base_uri": "https://localhost:8080/",
          "height": 35
        },
        "id": "4mSP8ueDwFfI",
        "outputId": "46d6fff8-d589-4e8f-bc50-04b863bb1a12"
      },
      "execution_count": null,
      "outputs": [
        {
          "output_type": "execute_result",
          "data": {
            "text/plain": [
              "'Shajji'"
            ],
            "application/vnd.google.colaboratory.intrinsic+json": {
              "type": "string"
            }
          },
          "metadata": {},
          "execution_count": 10
        }
      ]
    },
    {
      "cell_type": "code",
      "source": [
        "dir(Obj)"
      ],
      "metadata": {
        "colab": {
          "base_uri": "https://localhost:8080/"
        },
        "id": "A-01Xk-zxGq4",
        "outputId": "6fd2684f-35b9-4230-fb5e-d994ba99a653"
      },
      "execution_count": null,
      "outputs": [
        {
          "output_type": "execute_result",
          "data": {
            "text/plain": [
              "['__class__',\n",
              " '__delattr__',\n",
              " '__dict__',\n",
              " '__dir__',\n",
              " '__doc__',\n",
              " '__eq__',\n",
              " '__format__',\n",
              " '__ge__',\n",
              " '__getattribute__',\n",
              " '__gt__',\n",
              " '__hash__',\n",
              " '__init__',\n",
              " '__init_subclass__',\n",
              " '__le__',\n",
              " '__lt__',\n",
              " '__module__',\n",
              " '__ne__',\n",
              " '__new__',\n",
              " '__reduce__',\n",
              " '__reduce_ex__',\n",
              " '__repr__',\n",
              " '__setattr__',\n",
              " '__sizeof__',\n",
              " '__str__',\n",
              " '__subclasshook__',\n",
              " '__weakref__',\n",
              " 'name']"
            ]
          },
          "metadata": {},
          "execution_count": 11
        }
      ]
    },
    {
      "cell_type": "markdown",
      "metadata": {
        "id": "ztg8WubzX0zJ"
      },
      "source": [
        "If we don't fix attributes, any number of attributes can be created by the developer or user which is bad appraoch.\n"
      ]
    },
    {
      "cell_type": "markdown",
      "source": [
        "self"
      ],
      "metadata": {
        "id": "YCgPINu-B0dT"
      }
    },
    {
      "cell_type": "code",
      "source": [
        "class Marvels:\n",
        "    # Attributes\n",
        "    name = 'Thor'\n",
        "    def hammering(self):\n",
        "    # self is an implicit instance/ implicit reference, it always points to the current object\n",
        "    # self is like a parameter to a function, acts like a catylyst and calls the object.\n",
        "    # self must be first parameter\n",
        "        print('Thor is hammering...')\n",
        "M1 = Marvels()"
      ],
      "metadata": {
        "id": "n2utJmtx2Uct"
      },
      "execution_count": null,
      "outputs": []
    },
    {
      "cell_type": "code",
      "source": [
        "M1.name = 'Ironman'"
      ],
      "metadata": {
        "id": "RREAQApF4JXo"
      },
      "execution_count": null,
      "outputs": []
    },
    {
      "cell_type": "code",
      "source": [
        "# M1.name\n",
        "M1.hammering()"
      ],
      "metadata": {
        "colab": {
          "base_uri": "https://localhost:8080/"
        },
        "id": "LO6Z0Ugw4DR3",
        "outputId": "5b4e8d8b-51c6-403a-deec-a0e6b45a33e5"
      },
      "execution_count": null,
      "outputs": [
        {
          "output_type": "stream",
          "name": "stdout",
          "text": [
            "Thor is hammering...\n"
          ]
        }
      ]
    },
    {
      "cell_type": "code",
      "source": [
        "a = [1,2]\n",
        "a.append(3)\n",
        "a"
      ],
      "metadata": {
        "colab": {
          "base_uri": "https://localhost:8080/"
        },
        "id": "QTrV4SG741JD",
        "outputId": "94aa3d6f-9e6f-4bee-960b-114ccc83d93c"
      },
      "execution_count": null,
      "outputs": [
        {
          "output_type": "execute_result",
          "data": {
            "text/plain": [
              "[1, 2, 3]"
            ]
          },
          "metadata": {},
          "execution_count": 17
        }
      ]
    },
    {
      "cell_type": "code",
      "source": [
        "class Marvels:\n",
        "    # Attributes\n",
        "    name = 'Thor'\n",
        "    def hammering(self):\n",
        "        print(f'{self.name} is hammering...')\n",
        "    def walking(self):\n",
        "        print(f'{self.name} is walking')\n",
        "M4 = Marvels()\n",
        "M2 = Marvels()\n",
        "M3 = Marvels()"
      ],
      "metadata": {
        "id": "GvOpMWjo5USa"
      },
      "execution_count": null,
      "outputs": []
    },
    {
      "cell_type": "code",
      "source": [
        "M2.name = 'ironman'\n",
        "M2.walking()\n",
        "M2.hammering()"
      ],
      "metadata": {
        "colab": {
          "base_uri": "https://localhost:8080/"
        },
        "id": "RAL2mThI5-FC",
        "outputId": "64586af8-4536-4b19-b5ae-9b97ae218fe6"
      },
      "execution_count": null,
      "outputs": [
        {
          "output_type": "stream",
          "name": "stdout",
          "text": [
            "ironman is walking\n",
            "ironman is hammering...\n"
          ]
        }
      ]
    },
    {
      "cell_type": "code",
      "source": [
        "M3.name = 'Dr.strange'\n",
        "M3.walking()\n",
        "M3.hammering()"
      ],
      "metadata": {
        "colab": {
          "base_uri": "https://localhost:8080/"
        },
        "id": "s7dhZCye6IJO",
        "outputId": "54f854d9-13b5-4370-e83c-9d17b6d75613"
      },
      "execution_count": null,
      "outputs": [
        {
          "output_type": "stream",
          "name": "stdout",
          "text": [
            "Dr.strange is walking\n",
            "Dr.strange is hammering...\n"
          ]
        }
      ]
    },
    {
      "cell_type": "code",
      "source": [
        "M4.walking()"
      ],
      "metadata": {
        "colab": {
          "base_uri": "https://localhost:8080/"
        },
        "id": "dcsN_S9x9Bx4",
        "outputId": "a31dee12-4998-43b6-abba-f65a431f712b"
      },
      "execution_count": null,
      "outputs": [
        {
          "output_type": "stream",
          "name": "stdout",
          "text": [
            "Thor is walking\n"
          ]
        }
      ]
    },
    {
      "cell_type": "code",
      "source": [
        "class HarryPotter:\n",
        "    # Class attribute\n",
        "    name = 'Harry'\n",
        "    def housing(self,house):\n",
        "        print(f'{self.name} belongs to {house}')\n",
        "\n",
        "H1 = HarryPotter()"
      ],
      "metadata": {
        "id": "yRDkkI4fCCXd"
      },
      "execution_count": null,
      "outputs": []
    },
    {
      "cell_type": "code",
      "source": [
        "H1.name\n",
        "H1.housing('Griffindor')"
      ],
      "metadata": {
        "colab": {
          "base_uri": "https://localhost:8080/"
        },
        "id": "oR89mWrLC3Hu",
        "outputId": "e6edf5ea-6e41-40e5-8a36-2d28e7a2dae9"
      },
      "execution_count": null,
      "outputs": [
        {
          "output_type": "stream",
          "name": "stdout",
          "text": [
            "Harry belongs to Griffindor\n"
          ]
        }
      ]
    },
    {
      "cell_type": "code",
      "source": [
        "class HarryPotter:\n",
        "    # Class attribute\n",
        "    name = 'Harry'\n",
        "\n",
        "    # Initilisation Instance method\n",
        "    def __init__(self):\n",
        "        print(f'Welcome to Hogwards')\n",
        "\n",
        "H1 = HarryPotter()"
      ],
      "metadata": {
        "colab": {
          "base_uri": "https://localhost:8080/"
        },
        "id": "yAGaWh_PDagU",
        "outputId": "2824b23e-4ad7-4dba-9d2e-70291a3ada10"
      },
      "execution_count": null,
      "outputs": [
        {
          "output_type": "stream",
          "name": "stdout",
          "text": [
            "Welcome to Hogwards\n"
          ]
        }
      ]
    },
    {
      "cell_type": "code",
      "source": [
        "class HarryPotter:\n",
        "    # Class attribute\n",
        "    name = 'Harry'\n",
        "\n",
        "    # Initilisation Instance method\n",
        "    def __init__(self,name):\n",
        "        print(f'Welcome to Hogwards {name}')\n",
        "\n",
        "H1 = HarryPotter('Akhil')"
      ],
      "metadata": {
        "colab": {
          "base_uri": "https://localhost:8080/"
        },
        "id": "RvzzXroxE0Fn",
        "outputId": "fcda1621-6105-421f-c3fd-01f683368868"
      },
      "execution_count": null,
      "outputs": [
        {
          "output_type": "stream",
          "name": "stdout",
          "text": [
            "Welcome to Hogwards Akhil\n"
          ]
        }
      ]
    },
    {
      "cell_type": "code",
      "source": [
        "class Admission:\n",
        "    Name = 'No name yet'\n",
        "    age='no age yet'\n",
        "    phone=0\n",
        "    def __init__(self,name,age,phone):\n",
        "        self.name = name\n",
        "        self.age = age\n",
        "        self.phone = phone\n",
        "        print(f'Name: {self.name}, age: {self.age},phone:{self.phone}')"
      ],
      "metadata": {
        "id": "J_mCZOpiIOCV"
      },
      "execution_count": null,
      "outputs": []
    },
    {
      "cell_type": "code",
      "source": [
        "stdu1= Admission('akhil','25',9411)"
      ],
      "metadata": {
        "colab": {
          "base_uri": "https://localhost:8080/"
        },
        "id": "fHb0KqJEIsrv",
        "outputId": "38f98cf8-bf29-44ea-e607-bf0785f29039"
      },
      "execution_count": null,
      "outputs": [
        {
          "output_type": "stream",
          "name": "stdout",
          "text": [
            "Name: akhil, age: 25,phone:9411\n"
          ]
        }
      ]
    },
    {
      "cell_type": "code",
      "source": [
        "stud1= Admission('akhil','25',9411)\n",
        "stud1.Name"
      ],
      "metadata": {
        "colab": {
          "base_uri": "https://localhost:8080/",
          "height": 52
        },
        "id": "WoR08c24JveW",
        "outputId": "dc667ed2-5846-4612-ace6-7a363a150656"
      },
      "execution_count": null,
      "outputs": [
        {
          "output_type": "stream",
          "name": "stdout",
          "text": [
            "Name: akhil, age: 25,phone:9411\n"
          ]
        },
        {
          "output_type": "execute_result",
          "data": {
            "text/plain": [
              "'No name yet'"
            ],
            "application/vnd.google.colaboratory.intrinsic+json": {
              "type": "string"
            }
          },
          "metadata": {},
          "execution_count": 47
        }
      ]
    },
    {
      "cell_type": "code",
      "source": [
        "class Car:\n",
        "  name = 'Nexon'\n",
        "  def __init__(self,engine,seaters,color):\n",
        "    self.engine=engine\n",
        "    self.seaters=seaters\n",
        "    self.color=color\n",
        "\n",
        "  def driving(self,car_name):\n",
        "    print(f'{car_name} is driven')"
      ],
      "metadata": {
        "id": "oeJ9ZxFHJV36"
      },
      "execution_count": null,
      "outputs": []
    },
    {
      "cell_type": "code",
      "source": [
        "TataHarrier = Car('Diesel',7,'black')\n",
        "TataHarrier.engine\n",
        "TataHarrier.driving('Tata')"
      ],
      "metadata": {
        "colab": {
          "base_uri": "https://localhost:8080/"
        },
        "id": "BWhkCMouyOcH",
        "outputId": "1e37a0a4-0e89-4ae1-9bf7-c920d3c82dfd"
      },
      "execution_count": null,
      "outputs": [
        {
          "output_type": "stream",
          "name": "stdout",
          "text": [
            "Tata is driven\n"
          ]
        }
      ]
    },
    {
      "cell_type": "markdown",
      "source": [
        "Properties of OOPS:\n",
        "1. Inheritance\n",
        "2. Polymorphism\n",
        "3. Encapuslation\n",
        "4. Abstraction"
      ],
      "metadata": {
        "id": "0ha2w1VDx2hf"
      }
    },
    {
      "cell_type": "markdown",
      "source": [
        "Inheritance\n",
        "\n",
        "1. Single Inheritance"
      ],
      "metadata": {
        "id": "aKoWfn9j4e33"
      }
    },
    {
      "cell_type": "code",
      "source": [
        "class Parent:\n",
        "    a = 2\n",
        "    b = 3\n",
        "    def __init__(self):\n",
        "        print('I am parent class')\n",
        "    def Pmet(self):\n",
        "        print('I am parent class method')\n",
        "\n",
        "class Child(Parent):\n",
        "    c = 4\n",
        "    d = 5\n",
        "    def __init__(self):\n",
        "        print('I am Child class')\n",
        "    def Cmet(self):\n",
        "        # print('I am child class method')\n",
        "        print(self.a,self.b, self.Pmet())"
      ],
      "metadata": {
        "id": "caV8wTnY4eYT"
      },
      "execution_count": null,
      "outputs": []
    },
    {
      "cell_type": "code",
      "source": [
        "Pobj = Parent()\n",
        "Cobj = Child()"
      ],
      "metadata": {
        "colab": {
          "base_uri": "https://localhost:8080/"
        },
        "id": "S9VDXI7KzsQX",
        "outputId": "fed4226b-fe6c-40ed-9c30-6afa9ef5859f"
      },
      "execution_count": null,
      "outputs": [
        {
          "output_type": "stream",
          "name": "stdout",
          "text": [
            "I am parent class\n",
            "I am Child class\n"
          ]
        }
      ]
    },
    {
      "cell_type": "code",
      "source": [
        "# Pobj.a\n",
        "# Pobj.b\n",
        "# Pobj.c #error\n",
        "\n",
        "# Pobj.Pmet()\n",
        "# Pobj.Cmet() #error\n",
        "\n",
        "# Cobj.c\n",
        "# Cobj.d\n",
        "# Cobj.Pmet()\n",
        "Cobj.Cmet()"
      ],
      "metadata": {
        "colab": {
          "base_uri": "https://localhost:8080/"
        },
        "id": "rkFJUsQd59bb",
        "outputId": "214df6ac-01d5-49a4-ffc4-5691a7bec4d6"
      },
      "execution_count": null,
      "outputs": [
        {
          "output_type": "stream",
          "name": "stdout",
          "text": [
            "I am parent class method\n",
            "2 3 None\n"
          ]
        }
      ]
    },
    {
      "cell_type": "markdown",
      "source": [
        "Multi - level"
      ],
      "metadata": {
        "id": "Zs7aLdKY75-4"
      }
    },
    {
      "cell_type": "code",
      "source": [
        "class GrandParent:\n",
        "    a = 2\n",
        "    b = 3\n",
        "    def __init__(self):\n",
        "        print('I am Grand parent class')\n",
        "    def Gpmet(self):\n",
        "        print('I am Grand parent class method')\n",
        "\n",
        "class Parent(GrandParent):\n",
        "    c = 4\n",
        "    d = 5\n",
        "    def __init__(self):\n",
        "        print('I am parent class')\n",
        "    def Pmet(self):\n",
        "        print('I am parent class method')\n",
        "\n",
        "class Child(Parent):\n",
        "    e = 6\n",
        "    f = 7\n",
        "    def __init__(self):\n",
        "        print('I am Child class')\n",
        "    def Cmet(self):\n",
        "        print('I am child class method')\n",
        "        # print(self.a,self.b, self.Pmet())"
      ],
      "metadata": {
        "id": "R45hlCAE7W8K"
      },
      "execution_count": null,
      "outputs": []
    },
    {
      "cell_type": "code",
      "source": [],
      "metadata": {
        "id": "gJZ6cqxw73kt"
      },
      "execution_count": null,
      "outputs": []
    },
    {
      "cell_type": "markdown",
      "source": [
        "Multiple"
      ],
      "metadata": {
        "id": "2ttpSiYq8JYC"
      }
    },
    {
      "cell_type": "code",
      "source": [
        "class Father:\n",
        "    a = 2\n",
        "    b = 3\n",
        "    def __init__(self):\n",
        "        print('I am Father class')\n",
        "    def Fmet(self):\n",
        "        print('I am Father class method')\n",
        "\n",
        "class Mother:\n",
        "    c = 4\n",
        "    d = 5\n",
        "    def __init__(self):\n",
        "        print('I am mother class')\n",
        "    def Mmet(self):\n",
        "        print('I am mother class method')\n",
        "\n",
        "class Child(Father,Mother):\n",
        "    e = 6\n",
        "    f = 7\n",
        "    def __init__(self):\n",
        "        print('I am Child class')\n",
        "    def Cmet(self):\n",
        "        print('I am child class method')\n",
        "        # print(self.a,self.b, self.Pmet())"
      ],
      "metadata": {
        "id": "qFfzV1-k744J"
      },
      "execution_count": null,
      "outputs": []
    },
    {
      "cell_type": "markdown",
      "source": [
        "Hierarchical"
      ],
      "metadata": {
        "id": "AzEvVtOU8hrw"
      }
    },
    {
      "cell_type": "code",
      "source": [
        "class Parent:\n",
        "    a = 2\n",
        "    b = 3\n",
        "    def __init__(self):\n",
        "        print('I am Parent class')\n",
        "    def Pmet(self):\n",
        "        print('I am Parent class method')\n",
        "\n",
        "class Son(Parent):\n",
        "    c = 4\n",
        "    d = 5\n",
        "    def __init__(self):\n",
        "        print('I am Son class')\n",
        "    def Smet(self):\n",
        "        print('I am Son class method')\n",
        "\n",
        "class Daughter(Parent):\n",
        "    e = 6\n",
        "    f = 7\n",
        "    def __init__(self):\n",
        "        print('I am Daughter class')\n",
        "    def Dmet(self):\n",
        "        print('I am Daughter class method')"
      ],
      "metadata": {
        "id": "ziFb1fip8iz7"
      },
      "execution_count": null,
      "outputs": []
    },
    {
      "cell_type": "code",
      "source": [
        "# problem - 0\n",
        "# Write a Python program to check if a number is positive, negative or zero?"
      ],
      "metadata": {
        "id": "0AWzAmbr-1dE"
      },
      "execution_count": null,
      "outputs": []
    },
    {
      "cell_type": "code",
      "source": [
        "# Problem - 00\n",
        "#print Whether the given number is even or not."
      ],
      "metadata": {
        "id": "zZzNk1iW-qyA"
      },
      "execution_count": null,
      "outputs": []
    },
    {
      "cell_type": "code",
      "source": [
        "# problem -1\n",
        "# Write a python code to add first n numbers?"
      ],
      "metadata": {
        "id": "0r0YlZAQ95mE"
      },
      "execution_count": null,
      "outputs": []
    },
    {
      "cell_type": "code",
      "source": [
        "# problem - 2\n",
        "# print any table.\n",
        "# PRINT MULTIPLE TABLES"
      ],
      "metadata": {
        "id": "VGl23EY3-Kfh"
      },
      "execution_count": null,
      "outputs": []
    },
    {
      "cell_type": "code",
      "source": [
        "# problem - 3\n",
        "# check whether the given year is leap year or not."
      ],
      "metadata": {
        "id": "0wfOBXeh-PHe"
      },
      "execution_count": null,
      "outputs": []
    },
    {
      "cell_type": "code",
      "source": [
        "#problem - 4\n",
        "# print the prime numbers in the given interval."
      ],
      "metadata": {
        "id": "qe7bOx4--R1D"
      },
      "execution_count": null,
      "outputs": []
    },
    {
      "cell_type": "code",
      "source": [
        "#problem - 5\n",
        "# check whether the given number is an armstrong number or not?"
      ],
      "metadata": {
        "id": "mll-4tOT-VU_"
      },
      "execution_count": null,
      "outputs": []
    },
    {
      "cell_type": "code",
      "source": [
        "# problem -6\n",
        "# WAP to find the square root & cube root of the number?"
      ],
      "metadata": {
        "id": "v-QGSv3g-c-q"
      },
      "execution_count": null,
      "outputs": []
    },
    {
      "cell_type": "code",
      "source": [
        "# problem - 7\n",
        "# Write a Python program to calculate the sum of three given numbers, if the values are equal then\n",
        "# return thrice of their sum?"
      ],
      "metadata": {
        "id": "0TOnZXTr-xpY"
      },
      "execution_count": null,
      "outputs": []
    },
    {
      "cell_type": "code",
      "source": [
        "# problem - 8\n",
        "# Isosceles, equilateral, sccalene"
      ],
      "metadata": {
        "id": "Jmk7WLtk_KmA"
      },
      "execution_count": null,
      "outputs": []
    },
    {
      "cell_type": "markdown",
      "source": [
        "**super() method**\n",
        "\n",
        "\n",
        "*   In object-oriented programming, inheritance is a concept where a class derives (or inherits) characteristics and actions from another class without having to implement them again.\n",
        "*   Super() gives you access to methods in a superclass from a subclass that inherits from it at a high level.\n",
        "*   super() by itself returns a temporary object of the superclass, which may subsequently be used to invoke the methods of that superclass.\n",
        "*  Using super() to call already created methods avoids having to rebuild those methods in your subclass and allows you to swap out superclasses with little code modifications."
      ],
      "metadata": {
        "id": "bOEDPW_Qei6l"
      }
    },
    {
      "cell_type": "code",
      "source": [
        "class Person:\n",
        "    country = \"India\"\n",
        "    def citizenship(self):\n",
        "        print(f\"I am a citizen of {self.country}\")\n",
        "\n",
        "class Student(Person):\n",
        "  state = 'AP'\n",
        "  salary = 0\n",
        "  def __init__(self,state,salary):\n",
        "   self.state = state\n",
        "   self.salary=salary\n",
        "  def getState(self):\n",
        "    print(f'I am from {self.state}')\n",
        "  def getSalary(self):\n",
        "    print(f'I get salary of {self.salary} INR')\n",
        "\n",
        "class Programmer(Student):\n",
        "    def __init__(self,state,salary):\n",
        "        Student.__init__(self,state,salary)\n",
        "        print(self.state,self.salary)"
      ],
      "metadata": {
        "id": "D8-8UQx2DZ9t"
      },
      "execution_count": null,
      "outputs": []
    },
    {
      "cell_type": "code",
      "source": [
        "Pr1 = Programmer('Telangana',150000)"
      ],
      "metadata": {
        "colab": {
          "base_uri": "https://localhost:8080/"
        },
        "id": "CVHHFklrDpJU",
        "outputId": "0cdeb59a-6cb0-4715-b0c4-73dc0b0af512"
      },
      "execution_count": null,
      "outputs": [
        {
          "output_type": "stream",
          "name": "stdout",
          "text": [
            "Telangana 150000\n"
          ]
        }
      ]
    },
    {
      "cell_type": "code",
      "source": [
        "Pr1.getSalary()"
      ],
      "metadata": {
        "colab": {
          "base_uri": "https://localhost:8080/"
        },
        "id": "Vwo2MrWLDpqg",
        "outputId": "4282d1e8-c25b-4df4-843b-3be7cebc444e"
      },
      "execution_count": null,
      "outputs": [
        {
          "output_type": "stream",
          "name": "stdout",
          "text": [
            "I get salary of 150000 INR\n"
          ]
        }
      ]
    },
    {
      "cell_type": "code",
      "source": [
        "class Person:\n",
        "    country = \"India\"\n",
        "    def citizenship(self):\n",
        "        print(f\"I am a citizen of {self.country}\")\n",
        "\n",
        "class Student(Person):\n",
        "  state = 'AP'\n",
        "  salary = 0\n",
        "  def __init__(self,state,salary):\n",
        "   self.state = state\n",
        "   self.salary=salary\n",
        "  def getState(self):\n",
        "    print(f'I am from {self.state}')\n",
        "  def getSalary(self):\n",
        "    print(f'I get salary of {self.salary} INR')\n",
        "\n",
        "class Programmer(Student):\n",
        "    def __init__(self,state,salary,name):\n",
        "        super().__init__(state,salary) #import attributes from parent class\n",
        "        self.name = name\n",
        "        print(self.name,self.state,self.salary)"
      ],
      "metadata": {
        "id": "kw1_u0QtGb_Q"
      },
      "execution_count": null,
      "outputs": []
    },
    {
      "cell_type": "code",
      "source": [
        "Pr2 = Programmer('ap',10000,'akhil')"
      ],
      "metadata": {
        "colab": {
          "base_uri": "https://localhost:8080/"
        },
        "id": "7iY9VTelHmao",
        "outputId": "c00a9389-9918-4c2b-b960-c364311d4d59"
      },
      "execution_count": null,
      "outputs": [
        {
          "output_type": "stream",
          "name": "stdout",
          "text": [
            "akhil ap 10000\n"
          ]
        }
      ]
    },
    {
      "cell_type": "markdown",
      "source": [
        "Example"
      ],
      "metadata": {
        "id": "KpKOWQD9MjQa"
      }
    },
    {
      "cell_type": "code",
      "source": [
        "# Area, Perimeter\n",
        "class Rectangle:\n",
        "    def __init__(self,length,breadth):\n",
        "        self.length = length\n",
        "        self.breadth = breadth\n",
        "        print('Your reactangle is ready')\n",
        "\n",
        "    def Area(self):\n",
        "        return self.length * self.breadth\n",
        "\n",
        "    def Perimeter(self):\n",
        "        return 2*(self.length+self.breadth)\n",
        "\n",
        "R1 = Rectangle(4,2)"
      ],
      "metadata": {
        "colab": {
          "base_uri": "https://localhost:8080/"
        },
        "id": "mKmsTdR5Md-l",
        "outputId": "73531b2e-e62a-4479-8c2d-f89203d392a9"
      },
      "execution_count": null,
      "outputs": [
        {
          "output_type": "stream",
          "name": "stdout",
          "text": [
            "Your reactangle is ready\n"
          ]
        }
      ]
    },
    {
      "cell_type": "code",
      "source": [
        "# R1.Area()\n",
        "# R1.Perimeter()"
      ],
      "metadata": {
        "colab": {
          "base_uri": "https://localhost:8080/"
        },
        "id": "AocBkPj2OUOP",
        "outputId": "142909f7-e454-4ab1-ab1b-584b121284b4"
      },
      "execution_count": null,
      "outputs": [
        {
          "output_type": "execute_result",
          "data": {
            "text/plain": [
              "12"
            ]
          },
          "metadata": {},
          "execution_count": 11
        }
      ]
    },
    {
      "cell_type": "code",
      "source": [
        "# Area, Perimeter of rectangle, square\n",
        "class Rectangle:\n",
        "    def __init__(self,length,breadth):\n",
        "        self.length = length\n",
        "        self.breadth = breadth\n",
        "        print('Your reactangle is ready')\n",
        "\n",
        "    def Area(self):\n",
        "        return self.length * self.breadth\n",
        "\n",
        "    def Perimeter(self):\n",
        "        return 2*(self.length+self.breadth)\n",
        "\n",
        "class Square:\n",
        "    def __init__(self,length):\n",
        "        self.length = length\n",
        "        print('Your Square is ready')\n",
        "\n",
        "    def Area(self):\n",
        "        return self.length * self.length\n",
        "\n",
        "    def Perimeter(self):\n",
        "        return 4*(self.length)\n",
        "\n",
        "# R1 = Rectangle(4,2)\n",
        "S1 = Square(4)"
      ],
      "metadata": {
        "colab": {
          "base_uri": "https://localhost:8080/"
        },
        "id": "KFSNRxLqOfO2",
        "outputId": "5c662d2c-e35d-47f4-f9ff-1b3ce0a27039"
      },
      "execution_count": null,
      "outputs": [
        {
          "output_type": "stream",
          "name": "stdout",
          "text": [
            "Your Square is ready\n"
          ]
        }
      ]
    },
    {
      "cell_type": "code",
      "source": [
        "S1.Area()\n",
        "# S1.Perimeter()"
      ],
      "metadata": {
        "colab": {
          "base_uri": "https://localhost:8080/"
        },
        "id": "FeOoNI5-O-Ad",
        "outputId": "d1cf77ac-08ab-4598-ad16-4bdfe3d11d0f"
      },
      "execution_count": null,
      "outputs": [
        {
          "output_type": "execute_result",
          "data": {
            "text/plain": [
              "16"
            ]
          },
          "metadata": {},
          "execution_count": 15
        }
      ]
    },
    {
      "cell_type": "code",
      "source": [
        "# Area, Perimeter of rectangle, square\n",
        "class Rectangle:\n",
        "    def __init__(self,length,breadth):\n",
        "        self.length = length\n",
        "        self.breadth = breadth\n",
        "        # print('Your reactangle is ready')\n",
        "\n",
        "    def Area(self):\n",
        "        return self.length * self.breadth\n",
        "\n",
        "    def Perimeter(self):\n",
        "        return 2*(self.length+self.breadth)\n",
        "\n",
        "class Square(Rectangle):\n",
        "    def __init__(self,length):\n",
        "        super().__init__(length,length)\n",
        "        print('Your square is ready')\n",
        "\n",
        "class Cube(Square):\n",
        "# area - 6*l**2\n",
        "# Volume - l**3 - l**2*l\n",
        "    def Area(self):\n",
        "        return 6*super().Area()\n",
        "\n",
        "    def Volume(self):\n",
        "        return super().Area()*self.length\n",
        "\n",
        "C1 = Cube(5)\n",
        "# C1.Area()\n",
        "C1.Volume()\n",
        "# R1 = Rectangle(4,2)\n",
        "# S1 = Square(3)\n",
        "# S1.Area()\n",
        "# S1.Perimeter()"
      ],
      "metadata": {
        "id": "_xyirMFmPKVE"
      },
      "execution_count": null,
      "outputs": []
    },
    {
      "cell_type": "markdown",
      "source": [
        "Polymorphism\n",
        "\n",
        "1. Overloading\n",
        "2. Overriding"
      ],
      "metadata": {
        "id": "aymP8wpscTlH"
      }
    },
    {
      "cell_type": "code",
      "source": [
        "class Polygon:\n",
        "    a = 10\n",
        "    def area(self,b,c,a=2):\n",
        "        print(a,b,c)\n",
        "        return a*b*c"
      ],
      "metadata": {
        "id": "1Rac4g5GeAjv"
      },
      "execution_count": null,
      "outputs": []
    },
    {
      "cell_type": "code",
      "source": [
        "class Polygon:\n",
        "    a = 10\n",
        "    def area(self,c,b = 3,a=2):\n",
        "        print(a,b,c)\n",
        "        return a*b*c"
      ],
      "metadata": {
        "id": "hWYDLjRkWGxe"
      },
      "execution_count": null,
      "outputs": []
    },
    {
      "cell_type": "code",
      "source": [
        "p1 = Polygon()\n",
        "# p1.area(2,3,4)\n",
        "p1.area(5,6)"
      ],
      "metadata": {
        "colab": {
          "base_uri": "https://localhost:8080/"
        },
        "id": "9CKjSSe-WGvM",
        "outputId": "ed681a4d-673c-4532-80fd-6e8fe027f9e3"
      },
      "execution_count": null,
      "outputs": [
        {
          "output_type": "stream",
          "name": "stdout",
          "text": [
            "2 5 6\n"
          ]
        },
        {
          "output_type": "execute_result",
          "data": {
            "text/plain": [
              "60"
            ]
          },
          "metadata": {},
          "execution_count": 36
        }
      ]
    },
    {
      "cell_type": "code",
      "source": [
        "class Polygon:\n",
        "    a = 10\n",
        "    def area(self,c=6,b = 3,a=2):\n",
        "        # print(a,b,c)\n",
        "        return a*b"
      ],
      "metadata": {
        "id": "TI6Mlz02WGR-"
      },
      "execution_count": null,
      "outputs": []
    },
    {
      "cell_type": "code",
      "source": [
        "P2 = Polygon()\n",
        "# P2.area()\n",
        "# P2.area(7)\n",
        "# P2.area(7,8)\n",
        "P2.area(7,8,9)"
      ],
      "metadata": {
        "colab": {
          "base_uri": "https://localhost:8080/"
        },
        "id": "86r719OHWF6c",
        "outputId": "a588928b-fd13-403e-90cc-87c9c4a4f4f4"
      },
      "execution_count": null,
      "outputs": [
        {
          "output_type": "execute_result",
          "data": {
            "text/plain": [
              "72"
            ]
          },
          "metadata": {},
          "execution_count": 39
        }
      ]
    },
    {
      "cell_type": "code",
      "source": [
        "class Polygon1:\n",
        "    def area(self):\n",
        "       print('hi')\n",
        "\n",
        "class Polygon2:\n",
        "    def area(self):\n",
        "       print('hello')\n",
        "\n",
        "def Polygon(polygon):\n",
        "       return polygon.area()"
      ],
      "metadata": {
        "id": "sdFqAaJNhCwa"
      },
      "execution_count": null,
      "outputs": []
    },
    {
      "cell_type": "code",
      "source": [
        "P1 = Polygon1()\n",
        "P2 = Polygon2()"
      ],
      "metadata": {
        "id": "syiib0J8iCkY"
      },
      "execution_count": null,
      "outputs": []
    },
    {
      "cell_type": "code",
      "source": [
        "# Polygon(P1)\n",
        "Polygon(P2)"
      ],
      "metadata": {
        "colab": {
          "base_uri": "https://localhost:8080/"
        },
        "id": "riXkD669iKrh",
        "outputId": "e2b16c39-583c-44a0-e47e-b29eeab24fe4"
      },
      "execution_count": null,
      "outputs": [
        {
          "output_type": "stream",
          "name": "stdout",
          "text": [
            "hello\n"
          ]
        }
      ]
    },
    {
      "cell_type": "code",
      "source": [
        "# Different classes same method\n",
        "class Polygon1:\n",
        "    def area(self,a,b):\n",
        "       return a+b\n",
        "\n",
        "class Polygon2:\n",
        "    def area(self,a,b):\n",
        "       return a-b\n",
        "\n",
        "def Polygon(polygon,c,d):\n",
        "    return polygon.area(c,d)"
      ],
      "metadata": {
        "id": "YZxBWiGBiY7d"
      },
      "execution_count": null,
      "outputs": []
    },
    {
      "cell_type": "code",
      "source": [
        "P1 = Polygon1()\n",
        "P2 = Polygon2()"
      ],
      "metadata": {
        "id": "--gN5ccnjOz8"
      },
      "execution_count": null,
      "outputs": []
    },
    {
      "cell_type": "code",
      "source": [
        "# Polygon(P1,2,3)\n",
        "Polygon(P2,2,3)"
      ],
      "metadata": {
        "colab": {
          "base_uri": "https://localhost:8080/"
        },
        "id": "ZDfiuLq1jYm4",
        "outputId": "4945a937-815c-49aa-988a-087c7943dda3"
      },
      "execution_count": null,
      "outputs": [
        {
          "output_type": "execute_result",
          "data": {
            "text/plain": [
              "-1"
            ]
          },
          "metadata": {},
          "execution_count": 11
        }
      ]
    },
    {
      "cell_type": "markdown",
      "source": [
        "Overriding"
      ],
      "metadata": {
        "id": "eqfr0UGrYXn6"
      }
    },
    {
      "cell_type": "code",
      "source": [
        "# Inherited class same method\n",
        "class Polygon1:\n",
        "    def area(self,a,b):\n",
        "       return a+b\n",
        "\n",
        "class Polygon2(Polygon1):\n",
        "    def area(self,a,b):\n",
        "       return a-b\n",
        "\n",
        "# P1 = Polygon1()\n",
        "# P1.area(2,3)\n",
        "\n",
        "P2 = Polygon2()\n",
        "P2.area(2,3)"
      ],
      "metadata": {
        "colab": {
          "base_uri": "https://localhost:8080/"
        },
        "id": "TAdJt6qmj096",
        "outputId": "45668f83-bd0a-4859-caca-e203ecf1a2c8"
      },
      "execution_count": null,
      "outputs": [
        {
          "output_type": "execute_result",
          "data": {
            "text/plain": [
              "-1"
            ]
          },
          "metadata": {},
          "execution_count": 13
        }
      ]
    },
    {
      "cell_type": "code",
      "source": [
        "# Inherited class same method\n",
        "class Polygon1:\n",
        "    c,d=5,6\n",
        "    def area(self,a,b):\n",
        "       return a+b\n",
        "\n",
        "class Polygon2(Polygon1):\n",
        "    c,d=5,6\n",
        "    def area(self,a,b):\n",
        "       print(self.c,self.d)\n",
        "       return a-b\n",
        "\n",
        "# P1 = Polygon1()\n",
        "# P1.area(2,3)\n",
        "\n",
        "P2 = Polygon2()\n",
        "P2.area(2,3)"
      ],
      "metadata": {
        "colab": {
          "base_uri": "https://localhost:8080/"
        },
        "id": "tSJSEAMbkfxC",
        "outputId": "fca40cd7-d126-4615-f06f-71c59b7dbb12"
      },
      "execution_count": null,
      "outputs": [
        {
          "output_type": "stream",
          "name": "stdout",
          "text": [
            "5 6\n"
          ]
        },
        {
          "output_type": "execute_result",
          "data": {
            "text/plain": [
              "-1"
            ]
          },
          "metadata": {},
          "execution_count": 15
        }
      ]
    },
    {
      "cell_type": "markdown",
      "source": [
        "Abstraction"
      ],
      "metadata": {
        "id": "EjpKYOFLZXYp"
      }
    },
    {
      "cell_type": "markdown",
      "source": [
        "###Decorators:\n",
        "\n",
        "Python has an interesting feature called decorators to add functionality to an existing code.\n",
        "\n",
        "This is also called metaprogramming because a part of the program tries to modify another part of the program at compile time."
      ],
      "metadata": {
        "id": "075R-GMQRUZW"
      }
    },
    {
      "cell_type": "code",
      "source": [
        "def calling():\n",
        "    return 'hi'\n",
        "abc = calling\n",
        "abc()"
      ],
      "metadata": {
        "colab": {
          "base_uri": "https://localhost:8080/",
          "height": 35
        },
        "id": "BCOLQj08ZnVY",
        "outputId": "ee09d431-c152-4bb2-ec8d-85744ad63430"
      },
      "execution_count": null,
      "outputs": [
        {
          "output_type": "execute_result",
          "data": {
            "text/plain": [
              "'hi'"
            ],
            "application/vnd.google.colaboratory.intrinsic+json": {
              "type": "string"
            }
          },
          "metadata": {},
          "execution_count": 3
        }
      ]
    },
    {
      "cell_type": "code",
      "source": [
        "def calling(a):\n",
        "    return a\n",
        "abc = calling\n",
        "abc('akhil')"
      ],
      "metadata": {
        "colab": {
          "base_uri": "https://localhost:8080/",
          "height": 35
        },
        "id": "MOTPJ2WiacQb",
        "outputId": "eaaf2163-2353-4ed8-a44f-f85b24a71ba8"
      },
      "execution_count": null,
      "outputs": [
        {
          "output_type": "execute_result",
          "data": {
            "text/plain": [
              "'akhil'"
            ],
            "application/vnd.google.colaboratory.intrinsic+json": {
              "type": "string"
            }
          },
          "metadata": {},
          "execution_count": 4
        }
      ]
    },
    {
      "cell_type": "code",
      "source": [
        "def first():\n",
        "    return 'hi'\n",
        "\n",
        "def second(fun):\n",
        "    print(fun())\n",
        "\n",
        "second(first)"
      ],
      "metadata": {
        "id": "OJ7auzPwmX_X",
        "colab": {
          "base_uri": "https://localhost:8080/"
        },
        "outputId": "24465c06-8ec5-40f6-dcfc-71ea89623a9b"
      },
      "execution_count": null,
      "outputs": [
        {
          "output_type": "stream",
          "name": "stdout",
          "text": [
            "hi\n"
          ]
        }
      ]
    },
    {
      "cell_type": "code",
      "source": [
        "def first():\n",
        "    print('*************')\n",
        "\n",
        "def second(fun):\n",
        "    fun()\n",
        "    print('hello')\n",
        "    fun()\n",
        "\n",
        "second(first)"
      ],
      "metadata": {
        "colab": {
          "base_uri": "https://localhost:8080/"
        },
        "id": "y7hAmoJhbtOf",
        "outputId": "689f5ca7-3fe5-4d82-f3b7-e20f88fd65b8"
      },
      "execution_count": null,
      "outputs": [
        {
          "output_type": "stream",
          "name": "stdout",
          "text": [
            "*************\n",
            "hello\n",
            "*************\n"
          ]
        }
      ]
    },
    {
      "cell_type": "markdown",
      "source": [
        "So what are closures good for?\n",
        "\n",
        "Closures can avoid the use of global values and provides some form of data hiding. It can also provide an object oriented solution to the problem.\n",
        "\n",
        "When there are few methods (one method in most cases) to be implemented in a class, closures can provide an alternate and more elegant solution. But when the number of attributes and methods get larger, it's better to implement a class.\n",
        "\n",
        "Here is a simple example where a closure might be more preferable than defining a class and making objects. But the preference is all yours."
      ],
      "metadata": {
        "id": "xSeUPKhoTyfk"
      }
    },
    {
      "cell_type": "code",
      "source": [
        "def multiplier1():\n",
        "    def multiplier2(b):\n",
        "        return b+b\n",
        "    return multiplier2"
      ],
      "metadata": {
        "id": "_WW1E9M7dmfj"
      },
      "execution_count": null,
      "outputs": []
    },
    {
      "cell_type": "code",
      "source": [
        "multiplier1()(2)"
      ],
      "metadata": {
        "colab": {
          "base_uri": "https://localhost:8080/"
        },
        "id": "LLIVh0aPd4Lj",
        "outputId": "b665272f-27be-4d18-807c-934e099ec990"
      },
      "execution_count": null,
      "outputs": [
        {
          "output_type": "execute_result",
          "data": {
            "text/plain": [
              "4"
            ]
          },
          "metadata": {},
          "execution_count": 12
        }
      ]
    },
    {
      "cell_type": "code",
      "source": [
        "def multiplier1(a):\n",
        "    def multiplier2(b):\n",
        "        return a*b\n",
        "    return multiplier2"
      ],
      "metadata": {
        "id": "HA3yZcsvfDBN"
      },
      "execution_count": null,
      "outputs": []
    },
    {
      "cell_type": "code",
      "source": [
        "# multiplier1(3)(2)\n",
        "\n",
        "mul = multiplier1(4)\n",
        "# mul(3)\n",
        "mul"
      ],
      "metadata": {
        "colab": {
          "base_uri": "https://localhost:8080/"
        },
        "id": "HnNYuHI2fGZI",
        "outputId": "daa8466e-2565-4f3d-dcbe-77cd198a15a4"
      },
      "execution_count": null,
      "outputs": [
        {
          "output_type": "execute_result",
          "data": {
            "text/plain": [
              "<function __main__.multiplier1.<locals>.multiplier2(b)>"
            ]
          },
          "metadata": {},
          "execution_count": 17
        }
      ]
    },
    {
      "cell_type": "code",
      "source": [
        "def multiplier1(a):\n",
        "    def multiplier2(b):\n",
        "        return a*b\n",
        "    return multiplier2"
      ],
      "metadata": {
        "id": "X2zOrl8if16a"
      },
      "execution_count": null,
      "outputs": []
    },
    {
      "cell_type": "code",
      "source": [
        "mul1 = multiplier1(5)\n",
        "mul2 = multiplier1(6)\n",
        "mul2(mul1(7))\n",
        "# mul2(multiplier1(5)(7))\n",
        "mul2(35)\n",
        "multiplier1(6)(35)\n",
        "# 210"
      ],
      "metadata": {
        "colab": {
          "base_uri": "https://localhost:8080/"
        },
        "id": "GA4jxsBof4In",
        "outputId": "78d484b6-9ea3-4765-c028-2eeccb7f715e"
      },
      "execution_count": null,
      "outputs": [
        {
          "output_type": "execute_result",
          "data": {
            "text/plain": [
              "210"
            ]
          },
          "metadata": {},
          "execution_count": 16
        }
      ]
    },
    {
      "cell_type": "code",
      "source": [
        "def decorate_it(fun):\n",
        "    def wrapper():\n",
        "        print('***********')\n",
        "        fun()\n",
        "        print('***********')\n",
        "    return wrapper\n",
        "\n",
        "def greet():\n",
        "    print('Hello')\n",
        "\n",
        "decorate_it(greet)()"
      ],
      "metadata": {
        "colab": {
          "base_uri": "https://localhost:8080/"
        },
        "id": "NxKPO4xugHqR",
        "outputId": "ffdca6c1-949d-404e-b704-b668e567ee44"
      },
      "execution_count": null,
      "outputs": [
        {
          "output_type": "stream",
          "name": "stdout",
          "text": [
            "***********\n",
            "Hello\n",
            "***********\n"
          ]
        }
      ]
    },
    {
      "cell_type": "code",
      "source": [
        "def decorate_it(fun):\n",
        "    def wrapper():\n",
        "        print('***********')\n",
        "        fun()\n",
        "        print('***********')\n",
        "    return wrapper\n",
        "\n",
        "@decorate_it\n",
        "def greet():\n",
        "    print('Hello')\n",
        "\n",
        "# decorate_it(greet)()\n",
        "greet()"
      ],
      "metadata": {
        "colab": {
          "base_uri": "https://localhost:8080/"
        },
        "id": "uPw1k2Ziuakn",
        "outputId": "316e82f2-78a6-44ae-875a-11940fa0de36"
      },
      "execution_count": null,
      "outputs": [
        {
          "output_type": "stream",
          "name": "stdout",
          "text": [
            "***********\n",
            "Hello\n",
            "***********\n"
          ]
        }
      ]
    },
    {
      "cell_type": "code",
      "source": [
        "def star(fun):\n",
        "    def wrapper():\n",
        "        print('***********')\n",
        "        fun()\n",
        "        print('***********')\n",
        "    return wrapper\n",
        "\n",
        "def hash(fun):\n",
        "    def wrapper():\n",
        "        print('#'*30)\n",
        "        fun()\n",
        "        print('#'*30)\n",
        "    return wrapper\n",
        "\n",
        "\n",
        "@star\n",
        "@hash\n",
        "def greet():\n",
        "    print('Hello')\n",
        "\n",
        "# decorate_it(greet)()\n",
        "greet()"
      ],
      "metadata": {
        "colab": {
          "base_uri": "https://localhost:8080/"
        },
        "id": "7Lt_vMaFvFCY",
        "outputId": "aefe42af-9140-4f3a-f257-2aa0ab24b22b"
      },
      "execution_count": null,
      "outputs": [
        {
          "output_type": "stream",
          "name": "stdout",
          "text": [
            "***********\n",
            "##############################\n",
            "Hello\n",
            "##############################\n",
            "***********\n"
          ]
        }
      ]
    },
    {
      "cell_type": "code",
      "source": [],
      "metadata": {
        "id": "9cTaoOxn9S7W"
      },
      "execution_count": null,
      "outputs": []
    },
    {
      "cell_type": "markdown",
      "metadata": {
        "id": "t4Q5EYS7qQUp"
      },
      "source": [
        "There are three types of methods:\n",
        "* Instance method:\n",
        "  * If you want to modify on **instance variable**\n",
        "  * **No** decorator needed\n",
        "  * **self** as first argument\n",
        "* Class method:\n",
        "\n",
        "  * Class methods are for when you need to have methods that aren't specific to any particular instance, but still involve the class in some way.\n",
        "  * If you want to modify **class variable**\n",
        "  * Decorator needed\n",
        "  * **cls** as first argument\n",
        "* Static method\n",
        "  * Decorator needed\n",
        "  * **No** arguments needed\n"
      ]
    },
    {
      "cell_type": "code",
      "source": [
        "# Class method, instance method, static method\n",
        "class Human:\n",
        "  # Class variable shared by all objects\n",
        "  name = 'Ironman'\n",
        "\n",
        "  # Instance variable shared by specific objects\n",
        "  def __init__(self,name,height,weight):\n",
        "    # name = 'akhil'\n",
        "    self.name = name\n",
        "    self.height = height\n",
        "    self.weight = weight\n",
        "\n",
        "  # Instance method should have self\n",
        "  def walking(self): #here self can be object-a or object-b\n",
        "    print(f'{self.name} is walking')\n",
        "\n",
        "  # class method should have decorator\n",
        "  @classmethod\n",
        "  def updatename(cls,name): #Instead of self, we should use cls to call the object\n",
        "    cls.name = name\n",
        "    print(f'Updated name is {cls.name}')\n",
        "\n",
        "  @staticmethod\n",
        "  def movie(): # Static method takes NO self NO cls, No arguments should be passed\n",
        "    print('I am static method')\n",
        "\n",
        "a = Human('spiderman',5,40)\n",
        "b = Human('superman',6,50)\n",
        "\n",
        "Human.updatename('fireman') #Updates the class variable using class method\n",
        "Human.name"
      ],
      "metadata": {
        "id": "4vZ46vzx9SwE"
      },
      "execution_count": null,
      "outputs": []
    },
    {
      "cell_type": "code",
      "source": [
        "class Human:\n",
        "  name = 'Ironman'\n",
        "\n",
        "  def __init__(self,name,height,weight):\n",
        "    # name = 'akhil'\n",
        "    self.name = name\n",
        "    self.height = height\n",
        "    self.weight = weight\n",
        "\n",
        "  def walking(self): #here self can be object-a or object-b\n",
        "    print(f'{self.name} is walking')\n",
        "\n",
        "  def example(self,otherobject):\n",
        "    return print(f'{self.name} is different from {otherobject.name}')\n",
        "\n",
        "a = Human('spiderman',5,40)\n",
        "b = Human('superman',6,50)\n",
        "\n",
        "# something like this also possible\n",
        "a.example(b) #accessing one method using two instances"
      ],
      "metadata": {
        "id": "VAlT-6P59Sje"
      },
      "execution_count": null,
      "outputs": []
    },
    {
      "cell_type": "code",
      "source": [
        "class Employee:\n",
        "    company = \"Camel\"\n",
        "    salary = 100\n",
        "    location = \"Delhi\"\n",
        "\n",
        "    def changeSalary(self, sal):\n",
        "        self.__class__.salary = sal\n",
        "\n",
        "    # Alternative way of writing the above code using class method decorator is given below\n",
        "\n",
        "    @classmethod\n",
        "    def changeSalary(cls, sal):\n",
        "        cls.salary = sal\n",
        "\n",
        "e = Employee()\n",
        "print(e.salary)\n",
        "e.changeSalary(455)\n",
        "print(e.salary)\n",
        "print(Employee.salary)"
      ],
      "metadata": {
        "id": "qkWCFtUNGqhN"
      },
      "execution_count": null,
      "outputs": []
    },
    {
      "cell_type": "code",
      "source": [
        "class Polygon:\n",
        "  # Class attribute\n",
        "  name = 'Rectangle'\n",
        "\n",
        "  # Instantiate attribute\n",
        "  def __init__(self,length,breadth,poly): #__init__ initialise the variables\n",
        "    # self is like a parameter to a function, acts like a catylyst and calls the object.\n",
        "    self.length = length\n",
        "    self.breadth = breadth\n",
        "    self.poly = poly\n",
        "\n",
        "  @classmethod\n",
        "  def fromstr(cls,input_string):\n",
        "    poly,length,breadth = input_string.split('-')\n",
        "    return cls(length,breadth,poly)\n",
        "\n",
        "  def area(self):\n",
        "    print(f'Area of a {self.poly} is: {int(self.length) * int(self.breadth)} ')\n",
        "\n",
        "# If the input is the string like this, we cant split everytime like below line whenever new object comes\n",
        "# Hence we create a class method in the class\n",
        "input_string = 'rectangle-3-4'\n",
        "# poly,length,breadth = input_string.split('-')\n",
        "\n",
        "r = Polygon.fromstr(input_string)\n",
        "# r\n",
        "# r.fromstr(input_string)\n",
        "r.area()"
      ],
      "metadata": {
        "id": "GD5lw4RiHa0h"
      },
      "execution_count": null,
      "outputs": []
    },
    {
      "cell_type": "markdown",
      "source": [
        "###Abstraction:\n",
        "In Python, an abstraction is used to hide the irrelevant data/class in order to reduce the complexity. It also enhances the application efficiency.\n",
        "\n",
        "Hide Implementation details, returns using call backs\n",
        "\n",
        "**ABSTRACT CLASS**  : If it has one or more abstract methods\n",
        "\n",
        "**ABSTRACT METHOD**  : Only declaration, but no Definition\n",
        "\n",
        "**CONCRETE CLASS**   : If it doesnt have abstract class\n",
        "\n",
        "**CONCRETE METHOD**  :  If it has both definition and declaration\n",
        "\n",
        "Object cannot be instantiated for abstract class\n",
        "\n",
        "Object can only be instantiated by concrete class"
      ],
      "metadata": {
        "id": "0gc5RPVUgCD_"
      }
    },
    {
      "cell_type": "code",
      "source": [
        "# Importing ABC class and abstract method from abc module\n",
        "from abc import ABC,abstractmethod\n",
        "class A(ABC): #Abstract class\n",
        "    @abstractmethod\n",
        "    def display(self): #abstract method\n",
        "        return None\n",
        "\n",
        "class Demo(A):\n",
        "    def display(self):\n",
        "        print('i am concrete method ')"
      ],
      "metadata": {
        "id": "xipI8Jwrvolb"
      },
      "execution_count": null,
      "outputs": []
    },
    {
      "cell_type": "code",
      "source": [
        "d1 = Demo()\n",
        "d1.display()"
      ],
      "metadata": {
        "colab": {
          "base_uri": "https://localhost:8080/"
        },
        "id": "PzWKCq-x4nMO",
        "outputId": "7db7dacb-e390-4ef9-cf4c-81bc22062df0"
      },
      "execution_count": null,
      "outputs": [
        {
          "output_type": "stream",
          "name": "stdout",
          "text": [
            "i am concrete method \n"
          ]
        }
      ]
    },
    {
      "cell_type": "markdown",
      "metadata": {
        "id": "EVuDz8wnqhcT"
      },
      "source": [
        "Abstract classes are incomplete because they have methods that have nobody. If python allows creating an object for abstract classes then using that object if anyone calls the abstract method, but there is no actual implementation to invoke. So we use an abstract class as a template and according to the need, we extend it and build on it before we can use it. Due to the fact, an abstract class is not a concrete class, it cannot be instantiated. When we create an object for the abstract class it raises an error."
      ]
    },
    {
      "cell_type": "code",
      "source": [
        "# For every abstract method, there has to be a concrete method\n",
        "class A(ABC):\n",
        "  @abstractmethod\n",
        "  def display(self):\n",
        "    return None\n",
        "\n",
        "  @abstractmethod\n",
        "  def show(self):\n",
        "    return None\n",
        "\n",
        "class B(A):\n",
        "  def display(self):\n",
        "    return 'Display method'\n",
        "\n",
        "  def show(self):\n",
        "    return 'show method'\n",
        "# Number of abstract methods should be  = Number of concrete class methods\n",
        "c = B()\n",
        "c.display()\n",
        "# c.show()"
      ],
      "metadata": {
        "id": "c_dt-Qwx5kNK"
      },
      "execution_count": null,
      "outputs": []
    },
    {
      "cell_type": "code",
      "source": [
        "# For every abstract method, there has to be a concrete method\n",
        "class A(ABC):\n",
        "  @abstractmethod\n",
        "  def display(self):\n",
        "    return None\n",
        "\n",
        "  @abstractmethod\n",
        "  def show(self):\n",
        "    return None\n",
        "\n",
        "class B(A):\n",
        "  def display(self):\n",
        "    return 'Display method'\n",
        "\n",
        "class C(B):\n",
        "  def show(self):\n",
        "    return 'show method'\n",
        "# Number of abstract methods should be  = Number of concrete class methods\n",
        "# Can only instantiate C class as it could inherit abstract methods from parent classes.\n",
        "c = C()\n",
        "c.display()\n",
        "# c.show()"
      ],
      "metadata": {
        "id": "oLJCZUtZ7TiQ"
      },
      "execution_count": null,
      "outputs": []
    },
    {
      "cell_type": "markdown",
      "source": [
        "Encapsulation:\n",
        "\n",
        "Public:\n",
        "Accesible everywhere\n",
        "\n",
        "Protected:Accesible by that class and by inherited classes.\n",
        "\n",
        "Private: Only accesible by that class but not inherited classes."
      ],
      "metadata": {
        "id": "LSdynb1Ln_fZ"
      }
    },
    {
      "cell_type": "code",
      "source": [
        "# Public\n",
        "class Human:\n",
        "    name = 'Ironman'\n",
        "    def __init__(self):\n",
        "        print('I am a class')\n",
        "\n",
        "h = Human()\n",
        "h.name"
      ],
      "metadata": {
        "colab": {
          "base_uri": "https://localhost:8080/",
          "height": 53
        },
        "id": "_pCkCCgFtz8o",
        "outputId": "e3c21375-8e89-4399-c849-d9d68cabee00"
      },
      "execution_count": null,
      "outputs": [
        {
          "output_type": "stream",
          "name": "stdout",
          "text": [
            "I am a class\n"
          ]
        },
        {
          "output_type": "execute_result",
          "data": {
            "text/plain": [
              "'Ironman'"
            ],
            "application/vnd.google.colaboratory.intrinsic+json": {
              "type": "string"
            }
          },
          "metadata": {},
          "execution_count": 1
        }
      ]
    },
    {
      "cell_type": "code",
      "source": [
        "# Public variable example\n",
        "class Avenger:\n",
        "  def __init__(self, name, color):\n",
        "     # public data members\n",
        "     self.name = name\n",
        "     self.color = color\n",
        "     print(f'{self.name} is in {self.color} color ')\n",
        "\n",
        "  def show(self):\n",
        "     # accessing public data member inside the class\n",
        "     print(\"Name: \", self.name, '; Color:', self.color)\n",
        "     print(f'{self.name} is in {self.color} color ')\n",
        "\n",
        "class Power_ranger(Avenger):\n",
        "  def show2(self):\n",
        "      print(f'{self.name} is in {self.color} color ')"
      ],
      "metadata": {
        "id": "8MtR-Vxq8y0g"
      },
      "execution_count": null,
      "outputs": []
    },
    {
      "cell_type": "code",
      "source": [
        "A1 = Avenger('Thor','Gold')\n",
        "# A1.color"
      ],
      "metadata": {
        "colab": {
          "base_uri": "https://localhost:8080/",
          "height": 53
        },
        "id": "w6Ojlm6Iu_CR",
        "outputId": "3cfb6c4a-3aed-43ae-b5dc-b5f83e06119d"
      },
      "execution_count": null,
      "outputs": [
        {
          "output_type": "stream",
          "name": "stdout",
          "text": [
            "Thor is in Gold color \n"
          ]
        },
        {
          "output_type": "execute_result",
          "data": {
            "text/plain": [
              "'Gold'"
            ],
            "application/vnd.google.colaboratory.intrinsic+json": {
              "type": "string"
            }
          },
          "metadata": {},
          "execution_count": 5
        }
      ]
    },
    {
      "cell_type": "code",
      "source": [
        "p2 = Power_ranger('redman','red')\n",
        "p2.color"
      ],
      "metadata": {
        "colab": {
          "base_uri": "https://localhost:8080/",
          "height": 53
        },
        "id": "swVFNlXKwQ1c",
        "outputId": "cfad9dd0-874b-4a00-f4d8-75339de92742"
      },
      "execution_count": null,
      "outputs": [
        {
          "output_type": "stream",
          "name": "stdout",
          "text": [
            "redman is in red color \n"
          ]
        },
        {
          "output_type": "execute_result",
          "data": {
            "text/plain": [
              "'red'"
            ],
            "application/vnd.google.colaboratory.intrinsic+json": {
              "type": "string"
            }
          },
          "metadata": {},
          "execution_count": 8
        }
      ]
    },
    {
      "cell_type": "code",
      "source": [
        "P1 = Power_ranger('Thor','Gold')\n",
        "P1.color"
      ],
      "metadata": {
        "colab": {
          "base_uri": "https://localhost:8080/",
          "height": 53
        },
        "id": "jtDwoZ7fv7PW",
        "outputId": "de87ae2c-37e5-4a62-82c0-98fcaadf7798"
      },
      "execution_count": null,
      "outputs": [
        {
          "output_type": "stream",
          "name": "stdout",
          "text": [
            "Thor is in Gold color \n"
          ]
        },
        {
          "output_type": "execute_result",
          "data": {
            "text/plain": [
              "'Gold'"
            ],
            "application/vnd.google.colaboratory.intrinsic+json": {
              "type": "string"
            }
          },
          "metadata": {},
          "execution_count": 6
        }
      ]
    },
    {
      "cell_type": "markdown",
      "source": [
        "Protected example"
      ],
      "metadata": {
        "id": "j8Wx-QV9xScQ"
      }
    },
    {
      "cell_type": "code",
      "source": [
        "# single underscore\n",
        "class Avenger:\n",
        "  _name = 'Blackwidow'\n",
        "  def __init__(self, name, color):\n",
        "     self.name = name\n",
        "     self.color = color\n",
        "    #  print(f'{self._name} is in {self.color} color ')\n",
        "\n",
        "  def walking(self):\n",
        "    print(self._name )\n",
        "    print(self.name )\n",
        "\n",
        "  def show(self):\n",
        "     # accessing public data member inside the class\n",
        "     print(\"Name: \", self.name, '; Color:', self.color)\n",
        "     print(f'{self.name} is in {self.color} color ')\n",
        "\n",
        "class Power_ranger(Avenger):\n",
        "  def show2(self):\n",
        "      print(f'{self._name} is in {self.color} color ')"
      ],
      "metadata": {
        "id": "IOMJMNnnw8J9"
      },
      "execution_count": null,
      "outputs": []
    },
    {
      "cell_type": "code",
      "source": [
        "# a = Avenger('superman','red_blue')\n",
        "# a.walking()\n",
        "b = Power_ranger('man','yellow')\n",
        "# b.walking()\n",
        "# b._name #should avoid accesing outside the class\n",
        "b.show2()"
      ],
      "metadata": {
        "colab": {
          "base_uri": "https://localhost:8080/"
        },
        "id": "liyNU33uxig9",
        "outputId": "812d7ba0-4827-43bb-d48c-1c4b45981704"
      },
      "execution_count": null,
      "outputs": [
        {
          "output_type": "stream",
          "name": "stdout",
          "text": [
            "Blackwidow is in yellow color \n"
          ]
        }
      ]
    },
    {
      "cell_type": "markdown",
      "source": [
        "Private"
      ],
      "metadata": {
        "id": "4_KWjoHU1QD0"
      }
    },
    {
      "cell_type": "code",
      "source": [
        "# Double underscore\n",
        "class Avenger:\n",
        "  __name = 'Blackwidow'\n",
        "  def __init__(self, name, color):\n",
        "     self.name = name\n",
        "     self.color = color\n",
        "    #  print(f'{self.name} is in {self.color} color ')\n",
        "    #  print(f'{self.__name} is in {self.color} color ')\n",
        "\n",
        "class Power_ranger(Avenger):\n",
        "  def show2(self):\n",
        "      print(f'{self.__name} is in {self.color} color ')"
      ],
      "metadata": {
        "id": "9rfiK6Hpycki"
      },
      "execution_count": null,
      "outputs": []
    },
    {
      "cell_type": "code",
      "source": [
        "A1 = Avenger('altaf','Fair&lovely')\n",
        "# P1 = Power_ranger('aneed','brown')\n",
        "# P1.show2()\n",
        "# P1.__name\n",
        "# A1._Avenger__name\n"
      ],
      "metadata": {
        "colab": {
          "base_uri": "https://localhost:8080/",
          "height": 35
        },
        "id": "_vSmfhaC1tk4",
        "outputId": "c881ad3a-76c4-43cb-84bc-5337f3e79c41"
      },
      "execution_count": null,
      "outputs": [
        {
          "output_type": "execute_result",
          "data": {
            "text/plain": [
              "'Blackwidow'"
            ],
            "application/vnd.google.colaboratory.intrinsic+json": {
              "type": "string"
            }
          },
          "metadata": {},
          "execution_count": 38
        }
      ]
    }
  ]
}